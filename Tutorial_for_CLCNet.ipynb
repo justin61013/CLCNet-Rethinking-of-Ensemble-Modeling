{
 "cells": [
  {
   "cell_type": "markdown",
   "id": "612f7721",
   "metadata": {},
   "source": [
    "# If you just want to use CLCNet to predict whether the classification results are correct, please check this tutorial"
   ]
  },
  {
   "cell_type": "code",
   "execution_count": 11,
   "id": "1d82cc73",
   "metadata": {},
   "outputs": [],
   "source": [
    "import torch \n",
    "import os\n",
    "from CLCNet.tab_model import CLCNet"
   ]
  },
  {
   "cell_type": "markdown",
   "id": "0a79ea18",
   "metadata": {},
   "source": [
    "# Load trained CLCNet weight\n",
    "You can train CLCNet yourself according to step 4 or 5 of github, or directly use any weight in [root of github]/weights (trained in ImageNet)."
   ]
  },
  {
   "cell_type": "code",
   "execution_count": 12,
   "id": "566925f8",
   "metadata": {},
   "outputs": [
    {
     "name": "stdout",
     "output_type": "stream",
     "text": [
      "Device used : cuda\n",
      "Device used : cuda\n"
     ]
    }
   ],
   "source": [
    "# Please replace it with the corresponding weight path in your own computer\n",
    "weight_path=os.path.join(os.path.abspath('.'),'weights','CLCNet_imagenet_split_1(MSE_0.1097).zip')\n",
    "                      \n",
    "# Load CLCNet\n",
    "clcnet = CLCNet()\n",
    "clcnet.load_model(weight_path)\n"
   ]
  },
  {
   "cell_type": "markdown",
   "id": "3faaef9e",
   "metadata": {},
   "source": [
    "# Use CLCNet to test several specified classification results\n",
    "We generate several sorted vectors ourselves (assuming they are classification results) and input them to CLCNet for comparison and testing. Since the weights of CLCNet are trained on ImageNet, the vectors we generate will also be 1000-dimensional.\n",
    "\n",
    "\n",
    "Even for vectors that are not 1000-dimensional, CLCNet will still work, but our training samples are all ImageNet 1000-dimensional classification results. When the dimension of the input classification result is too far from 1000 dimensions, performance may degrade. You can get better performance by retraining CLCNet on your own dataset with specific dimensions (follow step 5 on github)."
   ]
  },
  {
   "cell_type": "code",
   "execution_count": 13,
   "id": "61a4db9c",
   "metadata": {},
   "outputs": [
    {
     "name": "stdout",
     "output_type": "stream",
     "text": [
      "[[0.3019623]]\n"
     ]
    }
   ],
   "source": [
    "# We'll use this vector as a benchmark to do some funny tests\n",
    "input_cls_result=torch.tensor([[0.5,0.1,0.1,0.1,0.1,0.1]+[0.000]*994])\n",
    "confidecne=clcnet.predict(input_cls_result)\n",
    "print(confidecne)\n"
   ]
  },
  {
   "cell_type": "code",
   "execution_count": 14,
   "id": "690d65fc",
   "metadata": {},
   "outputs": [
    {
     "name": "stdout",
     "output_type": "stream",
     "text": [
      "[[0.32216468]]\n"
     ]
    }
   ],
   "source": [
    "# Try adding the sixth possibility to the second possibility\n",
    "\n",
    "input_cls_result=torch.tensor([[0.5,0.2,0.1,0.1,0.1,0.0]+[0.000]*994])\n",
    "confidecne=clcnet.predict(input_cls_result)\n",
    "print(confidecne)\n"
   ]
  },
  {
   "cell_type": "markdown",
   "id": "bbd49a16",
   "metadata": {},
   "source": [
    "The confidence increased slightly, indicating that CLCNet believes that although the second possibility has increased, the distribution of the classification results has become more concentrated, making the classification more likely to be correct."
   ]
  },
  {
   "cell_type": "code",
   "execution_count": 15,
   "id": "c6faa090",
   "metadata": {},
   "outputs": [
    {
     "name": "stdout",
     "output_type": "stream",
     "text": [
      "[[0.23107]]\n"
     ]
    }
   ],
   "source": [
    "# Only the second possibility is increased, the other possibilities are unchanged\n",
    "\n",
    "input_cls_result=torch.tensor([[0.5,0.2,0.1,0.1,0.1,0.1]+[0.000]*994])\n",
    "confidecne=clcnet.predict(input_cls_result)\n",
    "print(confidecne)\n"
   ]
  },
  {
   "cell_type": "code",
   "execution_count": 16,
   "id": "9cce8900",
   "metadata": {},
   "outputs": [
    {
     "name": "stdout",
     "output_type": "stream",
     "text": [
      "[[0.34241906]]\n"
     ]
    }
   ],
   "source": [
    "# Increase first possibilities\n",
    "\n",
    "input_cls_result=torch.tensor([[0.6,0.1,0.1,0.1,0.1,0.0]+[0.000]*994])\n",
    "confidecne=clcnet.predict(input_cls_result)\n",
    "print(confidecne)\n"
   ]
  },
  {
   "cell_type": "code",
   "execution_count": 17,
   "id": "947ee014",
   "metadata": {},
   "outputs": [
    {
     "name": "stdout",
     "output_type": "stream",
     "text": [
      "[[0.4260346]]\n"
     ]
    }
   ],
   "source": [
    "input_cls_result=torch.tensor([[0.7,0.1,0.1,0.1,0.0,0.0]+[0.000]*994])\n",
    "confidecne=clcnet.predict(input_cls_result)\n",
    "print(confidecne)"
   ]
  },
  {
   "cell_type": "code",
   "execution_count": 18,
   "id": "97e8aa2c",
   "metadata": {},
   "outputs": [
    {
     "name": "stdout",
     "output_type": "stream",
     "text": [
      "[[0.57468307]]\n"
     ]
    }
   ],
   "source": [
    "input_cls_result=torch.tensor([[0.8,0.1,0.1,0.0,0.0,0.0]+[0.000]*994])\n",
    "confidecne=clcnet.predict(input_cls_result)\n",
    "print(confidecne)\n"
   ]
  },
  {
   "cell_type": "code",
   "execution_count": 19,
   "id": "d78caecb",
   "metadata": {},
   "outputs": [
    {
     "name": "stdout",
     "output_type": "stream",
     "text": [
      "[[0.7845857]]\n"
     ]
    }
   ],
   "source": [
    "input_cls_result=torch.tensor([[0.9,0.1,0.0,0.0,0.0,0.0]+[0.000]*994])\n",
    "confidecne=clcnet.predict(input_cls_result)\n",
    "print(confidecne)\n"
   ]
  },
  {
   "cell_type": "code",
   "execution_count": 20,
   "id": "85a76640",
   "metadata": {},
   "outputs": [
    {
     "name": "stdout",
     "output_type": "stream",
     "text": [
      "[[1.0001363]]\n"
     ]
    }
   ],
   "source": [
    "input_cls_result=torch.tensor([[1.0,0.0,0.0,0.0,0.0,0.0]+[0.000]*994])\n",
    "confidecne=clcnet.predict(input_cls_result)\n",
    "print(confidecne)\n"
   ]
  }
 ],
 "metadata": {
  "kernelspec": {
   "display_name": "Python 3.9.7 ('base')",
   "language": "python",
   "name": "python3"
  },
  "language_info": {
   "codemirror_mode": {
    "name": "ipython",
    "version": 3
   },
   "file_extension": ".py",
   "mimetype": "text/x-python",
   "name": "python",
   "nbconvert_exporter": "python",
   "pygments_lexer": "ipython3",
   "version": "3.9.7"
  },
  "vscode": {
   "interpreter": {
    "hash": "9c9ec4ef67adeae2443ac3c3a3cebc4382116ad0366849b33d882866e4949921"
   }
  }
 },
 "nbformat": 4,
 "nbformat_minor": 5
}
